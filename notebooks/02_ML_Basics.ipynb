# Machine Learning Basics

import pandas as pd
from sklearn.model_selection import train_test_split
from sklearn.tree import DecisionTreeClassifier
from sklearn.metrics import classification_report

# Load dataset
iris = pd.read_csv("../datasets/iris.csv")
X = iris.drop("target", axis=1)
y = iris["target"]

# Split data
X_train, X_test, y_train, y_test = train_test_split(X, y, test_size=0.2, random_state=42)

# Train model
model = DecisionTreeClassifier(max_depth=3)
model.fit(X_train, y_train)

# Predict and evaluate
predictions = model.predict(X_test)
print(classification_report(y_test, predictions))

### Exercises:
- Try different classifiers (e.g., RandomForestClassifier).
- Tune hyperparameters and compare accuracy.
- Visualize decision boundaries (optional).
