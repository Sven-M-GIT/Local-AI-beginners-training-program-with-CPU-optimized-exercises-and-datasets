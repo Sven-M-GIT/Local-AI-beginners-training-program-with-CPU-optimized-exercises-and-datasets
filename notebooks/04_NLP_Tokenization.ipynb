# NLP Tokenization

import nltk
nltk.download('punkt')
from nltk.tokenize import word_tokenize

text = "Generative AI is transforming industries."
tokens = word_tokenize(text)
print("Tokens:", tokens)

### Exercises:
- Tokenize a paragraph of your choice.
- Count word frequencies.
- Identify stop words and remove them.
