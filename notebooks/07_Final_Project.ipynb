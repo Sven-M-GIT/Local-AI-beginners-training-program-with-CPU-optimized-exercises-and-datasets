# Final Project: AI Application

## Objective
Build a simple AI application that combines:
- Machine Learning (classification)
- Natural Language Processing (tokenization)

## Task
1. Load the Titanic dataset.
2. Preprocess the data and train a classifier.
3. Create a text summary of your findings.
4. Tokenize the summary using NLTK.
5. Reflect on responsible AI principles applied.

## Submission
Save your final notebook and share your insights.
